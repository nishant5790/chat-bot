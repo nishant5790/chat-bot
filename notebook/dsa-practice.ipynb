{
 "cells": [
  {
   "cell_type": "raw",
   "id": "ea4f082d-658c-42a8-a7a1-8f5a3b1341b5",
   "metadata": {},
   "source": [
    "The string \"PAYPALISHIRING\" is written in a zigzag pattern on a given number of rows like this: (you may want to display this pattern in a fixed font for better legibility)\n",
    "\n",
    "P   A   H   N\n",
    "A P L S I I G\n",
    "Y   I   R\n",
    "And then read line by line: \"PAHNAPLSIIGYIR\"\n",
    "\n",
    "Write the code that will take a string and make this conversion given a number of rows:\n",
    "\n",
    "string convert(string s, int numRows);\n",
    " \n",
    "\n",
    "Example 1:\n",
    "\n",
    "Input: s = \"PAYPALISHIRING\", numRows = 3\n",
    "Output: \"PAHNAPLSIIGYIR\"\n",
    "Example 2:\n",
    "\n",
    "Input: s = \"PAYPALISHIRING\", numRows = 4\n",
    "Output: \"PINALSIGYAHRPI\"\n",
    "Explanation:\n",
    "P     I    N\n",
    "A   L S  I G\n",
    "Y A   H R\n",
    "P     I\n",
    "Example 3:\n",
    "\n",
    "Input: s = \"A\", numRows = 1\n",
    "Output: \"A\""
   ]
  },
  {
   "cell_type": "code",
   "execution_count": 1,
   "id": "b4034b7f-2717-42c9-aa76-e2f53d88ffc6",
   "metadata": {},
   "outputs": [],
   "source": [
    "%load_ext jupyter_ai_magics"
   ]
  },
  {
   "cell_type": "code",
   "execution_count": 1,
   "id": "3a64f9fb-2492-406f-9463-74400a1da27c",
   "metadata": {},
   "outputs": [],
   "source": [
    "def convert(s: str, numRows: int) -> str:\n",
    "    if numRows == 1 or numRows >= len(s):\n",
    "        return s\n",
    "\n",
    "    rows = [''] * numRows\n",
    "    current_row = 0\n",
    "    going_down = False\n",
    "\n",
    "    for c in s:\n",
    "        rows[current_row] += c\n",
    "        if current_row == 0 or current_row == numRows - 1:\n",
    "            going_down = not going_down\n",
    "        current_row += 1 if going_down else -1\n",
    "\n",
    "    return ''.join(rows)\n",
    "\n"
   ]
  },
  {
   "cell_type": "code",
   "execution_count": 4,
   "id": "53df9414-2172-4a9b-9183-639660474dd4",
   "metadata": {},
   "outputs": [
    {
     "data": {
      "text/plain": [
       "'PINALSIGYAHRPI'"
      ]
     },
     "execution_count": 4,
     "metadata": {},
     "output_type": "execute_result"
    }
   ],
   "source": [
    "convert(s = \"PAYPALISHIRING\", numRows = 4) "
   ]
  },
  {
   "cell_type": "code",
   "execution_count": 6,
   "id": "d888e694-304d-461b-b802-86d709b79b07",
   "metadata": {},
   "outputs": [],
   "source": [
    "rows = [''] * 4"
   ]
  },
  {
   "cell_type": "code",
   "execution_count": 9,
   "id": "87ccd620-c460-4951-9b28-6658a58eb4aa",
   "metadata": {},
   "outputs": [],
   "source": [
    "rows\n",
    "s = \"PAYPALISHIRING\"\n",
    "numRows=4\n",
    "current_row=0\n",
    "going_down = False"
   ]
  },
  {
   "cell_type": "code",
   "execution_count": 14,
   "id": "6ee77507-8d21-4028-b4f1-8cd4b664e1fd",
   "metadata": {},
   "outputs": [
    {
     "name": "stdout",
     "output_type": "stream",
     "text": [
      "1\n",
      "2\n",
      "4\n"
     ]
    }
   ],
   "source": [
    "for c in \"124\":\n",
    "    print(c)"
   ]
  },
  {
   "cell_type": "code",
   "execution_count": 15,
   "id": "8196b340-11e6-4794-b8c5-01ea64120009",
   "metadata": {},
   "outputs": [],
   "source": [
    "x = [\"12\",\"12\"]"
   ]
  },
  {
   "cell_type": "code",
   "execution_count": 17,
   "id": "26568854-3530-4ce6-8d80-ce25264be8a6",
   "metadata": {},
   "outputs": [
    {
     "data": {
      "text/plain": [
       "'12'"
      ]
     },
     "execution_count": 17,
     "metadata": {},
     "output_type": "execute_result"
    }
   ],
   "source": [
    "x.pop()"
   ]
  },
  {
   "cell_type": "code",
   "execution_count": 47,
   "id": "e605b168-1b19-4b40-be8d-73e7f2690271",
   "metadata": {},
   "outputs": [],
   "source": [
    "def longestCommonPrefix(strs):\n",
    "    if not strs:\n",
    "        return \"\"\n",
    "\n",
    "    # Start with the first string as the prefix\n",
    "    prefix = strs[0]\n",
    "\n",
    "    for word in strs[1:]:\n",
    "        # Reduce the prefix until it matches the start of the word\n",
    "        while not word.startswith(prefix):\n",
    "            print(prefix[:-1])\n",
    "            prefix = prefix[:-1]\n",
    "            if prefix == \"\":\n",
    "                return \"\"\n",
    "\n",
    "    return prefix"
   ]
  },
  {
   "cell_type": "code",
   "execution_count": 53,
   "id": "5c54c52b-4bd7-4803-91c0-e37d6cd61ce0",
   "metadata": {},
   "outputs": [],
   "source": [
    "from itertools import chain, combinations\n",
    "\n",
    "def powerset(iterable):\n",
    "    \"\"\"\n",
    "    Generates all possible combinations (powerset) of elements from an iterable.\n",
    "    \"\"\"\n",
    "    s = list(iterable)\n",
    "    return chain.from_iterable(combinations(s, r) for r in range(len(s) + 1))\n",
    "\n",
    "my_list = [-1,2,1,-4]\n",
    "all_combinations = list(powerset(my_list))\n",
    "\n",
    "selected_list =[]\n",
    "for ele in all_combinations:\n",
    "    if len(ele) ==3:\n",
    "        selected_list.append(ele)\n",
    "\n",
    "sort_dict = {}\n",
    "for ele in selected_list:\n",
    "    sort_dict[ele] = -1*(sum(ele)) if sum(ele)-1 <0 else sum(ele)-1\n",
    "\n",
    "sorted_items = sorted(sort_dict.items(), key=lambda item: item[1])\n",
    "sorted_dict = dict(sorted_items)\n",
    "sum(list(sorted_dict.items())[0][0])\n"
   ]
  },
  {
   "cell_type": "code",
   "execution_count": 63,
   "id": "f709f4de-dd3c-4c0b-a020-62e9fac0e667",
   "metadata": {},
   "outputs": [],
   "source": []
  },
  {
   "cell_type": "code",
   "execution_count": 10,
   "id": "f9348e14-1d17-4e2c-b1d7-f0d3bb8abe72",
   "metadata": {},
   "outputs": [],
   "source": [
    "import itertools\n",
    "from typing import  List\n",
    "\n",
    "class Solution:\n",
    "    def combinationSum(candidates: List[int], target: int) -> List[List[int]]:\n",
    "        all_combinations = []\n",
    "        for r in range(1, len(candidates) + 1):\n",
    "            all_combinations.extend(list(itertools.combinations_with_replacement(candidates, r)))\n",
    "        \n",
    "        selected_list = []\n",
    "        for ele in all_combinations:\n",
    "            if sum(list(ele)) == target:\n",
    "                selected_list.append(list(ele))\n",
    "        return selected_list\n",
    "        "
   ]
  },
  {
   "cell_type": "code",
   "execution_count": 12,
   "id": "681c5535-ecc1-4816-90f4-f722143fcb94",
   "metadata": {},
   "outputs": [
    {
     "data": {
      "text/plain": [
       "[[3, 5], [2, 3, 3]]"
      ]
     },
     "execution_count": 12,
     "metadata": {},
     "output_type": "execute_result"
    }
   ],
   "source": [
    "Solution.combinationSum(candidates=[2,3,5],target=8)"
   ]
  },
  {
   "cell_type": "code",
   "execution_count": 46,
   "id": "d270e690-17d6-4a0c-8bf5-d399356eab0f",
   "metadata": {},
   "outputs": [],
   "source": [
    "def divide( dividend: int, divisor: int) -> int:\n",
    "    if dividend == divisor :\n",
    "        \n",
    "        return 1\n",
    "    if dividend == -divisor :\n",
    "        return -1\n",
    "    quotient=0\n",
    "    if divisor <0:\n",
    "        while dividend > -( divisor):\n",
    "            dividend = dividend + divisor\n",
    "            quotient +=1\n",
    "        return - quotient\n",
    "        \n",
    "    while  dividend > divisor:\n",
    "        dividend = dividend - divisor\n",
    "        quotient +=1\n",
    "    return quotient\n"
   ]
  },
  {
   "cell_type": "code",
   "execution_count": 49,
   "id": "490b8595-6166-4340-97ee-217585683731",
   "metadata": {},
   "outputs": [
    {
     "data": {
      "text/plain": [
       "0"
      ]
     },
     "execution_count": 49,
     "metadata": {},
     "output_type": "execute_result"
    }
   ],
   "source": [
    "divide(-2147483648,-1)"
   ]
  },
  {
   "cell_type": "code",
   "execution_count": 51,
   "id": "704f5051-3403-4b0f-b992-18816fcb25dc",
   "metadata": {},
   "outputs": [],
   "source": [
    "def climbStairs(n: int) -> int:\n",
    "    if n <= 2:\n",
    "        return n\n",
    "\n",
    "    a, b = 1, 2  # ways(1), ways(2)\n",
    "    for i in range(3, n + 1):\n",
    "        print(b)\n",
    "        a, b = b, a + b  # shift and update\n",
    "    return b"
   ]
  },
  {
   "cell_type": "code",
   "execution_count": 52,
   "id": "8bde347b-e123-4938-a78a-0ec13b1fda74",
   "metadata": {},
   "outputs": [
    {
     "name": "stdout",
     "output_type": "stream",
     "text": [
      "2\n",
      "3\n",
      "5\n"
     ]
    },
    {
     "data": {
      "text/plain": [
       "8"
      ]
     },
     "execution_count": 52,
     "metadata": {},
     "output_type": "execute_result"
    }
   ],
   "source": [
    "climbStairs(5)"
   ]
  },
  {
   "cell_type": "code",
   "execution_count": 4,
   "id": "91ec93ce-07f7-4be8-9c1a-fb82552b3d35",
   "metadata": {},
   "outputs": [
    {
     "data": {
      "text/markdown": [
       "```python\n",
       "def fibonacci(n):\n",
       "    fib_series = [0, 1]  # Initialize the Fibonacci series with the first two numbers\n",
       "    for i in range(2, n):  # Iterate from index 2 to n\n",
       "        next_fib = fib_series[i-1] + fib_series[i-2]  # Calculate the next Fibonacci number by adding the previous two numbers\n",
       "        fib_series.append(next_fib)  # Append the next Fibonacci number to the series\n",
       "    return fib_series  # Return the complete Fibonacci series\n",
       "\n",
       "n = 10  # Number of Fibonacci numbers to generate\n",
       "print(fibonacci(n))  # Generate and print the Fibonacci series up to the nth number\n",
       "```\n",
       "\n",
       "This code defines a function `fibonacci` to generate the Fibonacci series up to a given number `n` without using recursion. The function initializes the Fibonacci series with the first two numbers and then iterates to calculate the subsequent numbers by adding the previous two numbers. It appends each new Fibonacci number to the series and returns the complete series. Finally, it generates and prints the Fibonacci series up to the 10th number."
      ],
      "text/plain": [
       "<IPython.core.display.Markdown object>"
      ]
     },
     "execution_count": 4,
     "metadata": {
      "text/markdown": {
       "jupyter_ai": {
        "model_id": "gpt-3.5-turbo",
        "provider_id": "openai-chat"
       }
      }
     },
     "output_type": "execute_result"
    }
   ],
   "source": [
    "%%ai chatgpt\n",
    "implement fabonaci serise without recursive also explain each step\n"
   ]
  },
  {
   "cell_type": "code",
   "execution_count": null,
   "id": "1394ff2c-08de-4995-b8cf-201b3678bf4e",
   "metadata": {},
   "outputs": [],
   "source": []
  }
 ],
 "metadata": {
  "kernelspec": {
   "display_name": "Python 3 (ipykernel)",
   "language": "python",
   "name": "python3"
  },
  "language_info": {
   "codemirror_mode": {
    "name": "ipython",
    "version": 3
   },
   "file_extension": ".py",
   "mimetype": "text/x-python",
   "name": "python",
   "nbconvert_exporter": "python",
   "pygments_lexer": "ipython3",
   "version": "3.13.5"
  }
 },
 "nbformat": 4,
 "nbformat_minor": 5
}
